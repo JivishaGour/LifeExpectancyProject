{
 "cells": [
  {
   "cell_type": "code",
   "execution_count": 34,
   "metadata": {},
   "outputs": [
    {
     "name": "stdout",
     "output_type": "stream",
     "text": [
      "       Country  Year      Status  Life expectancy   Adult Mortality  \\\n",
      "0  Afghanistan  2015  Developing              65.0            263.0   \n",
      "1  Afghanistan  2014  Developing              59.9            271.0   \n",
      "2  Afghanistan  2013  Developing              59.9            268.0   \n",
      "3  Afghanistan  2012  Developing              59.5            272.0   \n",
      "4  Afghanistan  2011  Developing              59.2            275.0   \n",
      "\n",
      "   infant deaths  Alcohol  percentage expenditure  Hepatitis B  Measles   ...  \\\n",
      "0             62     0.01               71.279624         65.0      1154  ...   \n",
      "1             64     0.01               73.523582         62.0       492  ...   \n",
      "2             66     0.01               73.219243         64.0       430  ...   \n",
      "3             69     0.01               78.184215         67.0      2787  ...   \n",
      "4             71     0.01                7.097109         68.0      3013  ...   \n",
      "\n",
      "   Polio  Total expenditure  Diphtheria    HIV/AIDS         GDP  Population  \\\n",
      "0    6.0               8.16         65.0        0.1  584.259210  33736494.0   \n",
      "1   58.0               8.18         62.0        0.1  612.696514    327582.0   \n",
      "2   62.0               8.13         64.0        0.1  631.744976  31731688.0   \n",
      "3   67.0               8.52         67.0        0.1  669.959000   3696958.0   \n",
      "4   68.0               7.87         68.0        0.1   63.537231   2978599.0   \n",
      "\n",
      "    thinness  1-19 years   thinness 5-9 years  \\\n",
      "0                   17.2                 17.3   \n",
      "1                   17.5                 17.5   \n",
      "2                   17.7                 17.7   \n",
      "3                   17.9                 18.0   \n",
      "4                   18.2                 18.2   \n",
      "\n",
      "   Income composition of resources  Schooling  \n",
      "0                            0.479       10.1  \n",
      "1                            0.476       10.0  \n",
      "2                            0.470        9.9  \n",
      "3                            0.463        9.8  \n",
      "4                            0.454        9.5  \n",
      "\n",
      "[5 rows x 22 columns]\n"
     ]
    }
   ],
   "source": [
    "import pandas as pd\n",
    "\n",
    "df = pd.read_csv('Life Expectancy Data.csv')\n",
    "\n",
    "print(df.head())"
   ]
  },
  {
   "cell_type": "code",
   "execution_count": 35,
   "metadata": {},
   "outputs": [
    {
     "name": "stdout",
     "output_type": "stream",
     "text": [
      "Index(['Country', 'Year', 'Status', 'Life expectancy ', 'Adult Mortality',\n",
      "       'infant deaths', 'Alcohol', 'percentage expenditure', 'Hepatitis B',\n",
      "       'Measles ', ' BMI ', 'under-five deaths ', 'Polio', 'Total expenditure',\n",
      "       'Diphtheria ', ' HIV/AIDS', 'GDP', 'Population',\n",
      "       ' thinness  1-19 years', ' thinness 5-9 years',\n",
      "       'Income composition of resources', 'Schooling'],\n",
      "      dtype='object')\n"
     ]
    }
   ],
   "source": [
    "print(df.columns)"
   ]
  },
  {
   "cell_type": "code",
   "execution_count": 36,
   "metadata": {},
   "outputs": [],
   "source": [
    "columns_to_drop = [ 'Status', 'percentage expenditure',\n",
    "       'Measles ', 'under-five deaths ', 'Total expenditure',\n",
    "       'Diphtheria ', ' HIV/AIDS', 'GDP', 'Population',\n",
    "       ' thinness  1-19 years', ' thinness 5-9 years',\n",
    "       'Income composition of resources', 'Schooling']  # List of column names to drop\n",
    "df = df.drop(columns=columns_to_drop)"
   ]
  },
  {
   "cell_type": "code",
   "execution_count": 47,
   "metadata": {},
   "outputs": [],
   "source": [
    "columns_of_interest = ['Life expectancy ', 'Adult Mortality',\n",
    "       'infant deaths', 'Alcohol', 'Hepatitis B', ' BMI ', 'Polio']\n",
    "\n",
    "\n",
    "i = 0\n",
    "for i in range(i, i+15):\n",
    "       df[columns_of_interest].iloc[i:i+15].mean()\n",
    "       i = i+15\n",
    "\n",
    "\n"
   ]
  },
  {
   "cell_type": "code",
   "execution_count": 48,
   "metadata": {},
   "outputs": [],
   "source": [
    "df['Range of years'] = \"2000-2017\""
   ]
  },
  {
   "cell_type": "code",
   "execution_count": 49,
   "metadata": {},
   "outputs": [
    {
     "name": "stdout",
     "output_type": "stream",
     "text": [
      "Index(['Country', 'Range of years', 'Year', 'Life expectancy ',\n",
      "       'Adult Mortality', 'infant deaths', 'Alcohol', 'Hepatitis B', ' BMI ',\n",
      "       'Polio'],\n",
      "      dtype='object')\n"
     ]
    }
   ],
   "source": [
    "print(df.columns)"
   ]
  },
  {
   "cell_type": "code",
   "execution_count": 50,
   "metadata": {},
   "outputs": [],
   "source": [
    "column_to_move = df.pop('Range of years')  \n",
    "df.insert(1, 'Range of years', column_to_move)"
   ]
  },
  {
   "cell_type": "code",
   "execution_count": 51,
   "metadata": {},
   "outputs": [
    {
     "name": "stdout",
     "output_type": "stream",
     "text": [
      "          Country Range of years  Year  Life expectancy   Adult Mortality  \\\n",
      "0     Afghanistan      2000-2015  2015              65.0            263.0   \n",
      "1     Afghanistan      2000-2015  2014              59.9            271.0   \n",
      "2     Afghanistan      2000-2015  2013              59.9            268.0   \n",
      "3     Afghanistan      2000-2015  2012              59.5            272.0   \n",
      "4     Afghanistan      2000-2015  2011              59.2            275.0   \n",
      "...           ...            ...   ...               ...              ...   \n",
      "2933     Zimbabwe      2000-2015  2004              44.3            723.0   \n",
      "2934     Zimbabwe      2000-2015  2003              44.5            715.0   \n",
      "2935     Zimbabwe      2000-2015  2002              44.8             73.0   \n",
      "2936     Zimbabwe      2000-2015  2001              45.3            686.0   \n",
      "2937     Zimbabwe      2000-2015  2000              46.0            665.0   \n",
      "\n",
      "      infant deaths  Alcohol  Hepatitis B   BMI   Polio  \n",
      "0                62     0.01         65.0   19.1    6.0  \n",
      "1                64     0.01         62.0   18.6   58.0  \n",
      "2                66     0.01         64.0   18.1   62.0  \n",
      "3                69     0.01         67.0   17.6   67.0  \n",
      "4                71     0.01         68.0   17.2   68.0  \n",
      "...             ...      ...          ...    ...    ...  \n",
      "2933             27     4.36         68.0   27.1   67.0  \n",
      "2934             26     4.06          7.0   26.7    7.0  \n",
      "2935             25     4.43         73.0   26.3   73.0  \n",
      "2936             25     1.72         76.0   25.9   76.0  \n",
      "2937             24     1.68         79.0   25.5   78.0  \n",
      "\n",
      "[2938 rows x 10 columns]\n"
     ]
    }
   ],
   "source": [
    "print(df)"
   ]
  },
  {
   "cell_type": "code",
   "execution_count": null,
   "metadata": {},
   "outputs": [],
   "source": []
  }
 ],
 "metadata": {
  "kernelspec": {
   "display_name": "Python 3",
   "language": "python",
   "name": "python3"
  },
  "language_info": {
   "codemirror_mode": {
    "name": "ipython",
    "version": 3
   },
   "file_extension": ".py",
   "mimetype": "text/x-python",
   "name": "python",
   "nbconvert_exporter": "python",
   "pygments_lexer": "ipython3",
   "version": "3.11.1"
  }
 },
 "nbformat": 4,
 "nbformat_minor": 2
}
